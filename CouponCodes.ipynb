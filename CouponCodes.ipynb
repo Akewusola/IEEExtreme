{
 "cells": [
  {
   "cell_type": "code",
   "execution_count": 12,
   "id": "7584523e",
   "metadata": {},
   "outputs": [
    {
     "name": "stdout",
     "output_type": "stream",
     "text": [
      "Enter the numbers of cuopon codes:6\n",
      "Enter the coupon code:WELC-OMET-OTHE\n",
      "Enter the coupon code:IEEE-XTRE-ME14\n",
      "Enter the coupon code:AAAA-0000-A0A0\n",
      "Enter the coupon code:AAAA-0000-A0A1\n",
      "Enter the coupon code:AAAA-0000-A0AB\n",
      "Enter the coupon code:AAAA-0000-ABAB\n",
      "4\n"
     ]
    }
   ],
   "source": [
    "n = int(input('Enter the numbers of cuopon codes:'))\n",
    "\n",
    "# Put all coupon codes in a super list\n",
    "super_coupon = list()\n",
    "for i in range(n):\n",
    "    coupon_code = input('Enter the coupon code:')\n",
    "    super_coupon.append(coupon_code)\n",
    "\n",
    "    \n",
    "def split(code):\n",
    "    \"\"\"Takes in a string of characters and numbers. Returns a list that consists of all\n",
    "    the characters/numbers present in the string\"\"\"\n",
    "    out = list()\n",
    "    for item in code:\n",
    "        out.append(item)\n",
    "    return out\n",
    "\n",
    "\n",
    "def hamming_distance(code_1, code_2):\n",
    "    \"\"\"Takes in two strings and returns the hamming distance between them.\"\"\"\n",
    "    one = split(code_1)\n",
    "    two = split(code_2)\n",
    "    \n",
    "    j = 0\n",
    "    count = 0\n",
    "    while j < len(code_1):\n",
    "        if one[j] != two[j]:\n",
    "            count += 1\n",
    "        j += 1\n",
    "    return count   \n",
    "\n",
    "\n",
    "# Get the hamming distance of each coupon code compared with others\n",
    "# And then store the hamming distance in hamming_list\n",
    "k = 0\n",
    "hamming_list = list()\n",
    "while k < n - 1:\n",
    "    for items in super_coupon[k +1:]:\n",
    "        distance = hamming_distance(super_coupon[k], items)\n",
    "        hamming_list.append(distance)\n",
    "    k += 1\n",
    "\n",
    "# Get the number of combination whose hamming distances are exactly 1.\n",
    "# The sum will be number of pairs of coupon codes that are similar\n",
    "result = 0\n",
    "for elements in hamming_list:\n",
    "    if elements == 1:\n",
    "        result += 1\n",
    "print(result)"
   ]
  }
 ],
 "metadata": {
  "kernelspec": {
   "display_name": "Python 3 (ipykernel)",
   "language": "python",
   "name": "python3"
  },
  "language_info": {
   "codemirror_mode": {
    "name": "ipython",
    "version": 3
   },
   "file_extension": ".py",
   "mimetype": "text/x-python",
   "name": "python",
   "nbconvert_exporter": "python",
   "pygments_lexer": "ipython3",
   "version": "3.9.12"
  }
 },
 "nbformat": 4,
 "nbformat_minor": 5
}
