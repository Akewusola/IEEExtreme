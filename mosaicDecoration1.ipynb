{
 "cells": [
  {
   "cell_type": "code",
   "execution_count": 6,
   "id": "78456dce",
   "metadata": {},
   "outputs": [
    {
     "name": "stdout",
     "output_type": "stream",
     "text": [
      "Enter the number of bathrooms:3\n",
      "Enter the amount of a pile of black tile:5\n",
      "Enter the amount of a pile of pink tile:7\n",
      "Enter the number of black tile:10\n",
      "Enter the number of pink tile:10\n",
      "Enter the number of black tile:20\n",
      "Enter the number of pink tile:30\n",
      "Enter the number of black tile:30\n",
      "Enter the number of pink tile:3\n",
      "The total amount spent is 65 $\n"
     ]
    }
   ],
   "source": [
    "n = int(input(\"Enter the number of bathrooms:\"))\n",
    "c_b = int(input(\"Enter the amount of a pile of black tile:\"))\n",
    "c_p = int(input(\"Enter the amount of a pile of pink tile:\"))\n",
    "list_b = []\n",
    "list_p = []\n",
    "# store the amount of tiles needed for each bathroom\n",
    "for i in range(n):\n",
    "    b_i = int(input(\"Enter the number of black tile:\"))\n",
    "    p_i = int(input(\"Enter the number of pink tile:\"))\n",
    "    list_b.append(b_i)\n",
    "    list_p.append(p_i)\n",
    "\n",
    "    \n",
    "def sum_elements(number):\n",
    "    \"\"\"Takes in the total sum of each tiles and returns to the actual amount of tiles needed\"\"\"\n",
    "    if (number % 10) > 0:\n",
    "        return (number // 10) + 1\n",
    "    return (number // 10)\n",
    "\n",
    "# calculate the cost of each tile\n",
    "a_b = sum_elements(sum(list_b)) * c_b\n",
    "a_p = sum_elements(sum(list_p)) * c_p\n",
    "print('The total amount spent is', a_b + a_p, '$')\n",
    "\n"
   ]
  },
  {
   "cell_type": "code",
   "execution_count": null,
   "id": "19e9be13",
   "metadata": {},
   "outputs": [],
   "source": []
  }
 ],
 "metadata": {
  "kernelspec": {
   "display_name": "Python 3 (ipykernel)",
   "language": "python",
   "name": "python3"
  },
  "language_info": {
   "codemirror_mode": {
    "name": "ipython",
    "version": 3
   },
   "file_extension": ".py",
   "mimetype": "text/x-python",
   "name": "python",
   "nbconvert_exporter": "python",
   "pygments_lexer": "ipython3",
   "version": "3.9.12"
  }
 },
 "nbformat": 4,
 "nbformat_minor": 5
}
