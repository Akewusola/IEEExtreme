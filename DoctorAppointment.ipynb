{
 "cells": [
  {
   "cell_type": "code",
   "execution_count": 29,
   "id": "185b4605",
   "metadata": {
    "scrolled": false
   },
   "outputs": [
    {
     "name": "stdout",
     "output_type": "stream",
     "text": [
      "No of test cases:2\n",
      "No of patients:4\n",
      "The first available time:1\n",
      "The last available time:3\n",
      "The first available time:2\n",
      "The last available time:4\n",
      "The first available time:4\n",
      "The last available time:6\n",
      "The first available time:7\n",
      "The last available time:9\n",
      "[1, 3, 5, 7]\n",
      "No of patients:3\n",
      "The first available time:1\n",
      "The last available time:3\n",
      "The first available time:1\n",
      "The last available time:3\n",
      "The first available time:1\n",
      "The last available time:3\n",
      "[1, 2, 3]\n"
     ]
    }
   ],
   "source": [
    "t = int(input(\"No of test cases:\"))\n",
    "i = 0\n",
    "for i in range(t):\n",
    "    # create a list to store all appointments\n",
    "    total_time = []\n",
    "    n = int(input(\"No of patients:\"))\n",
    "    # Using set to store each patient's appointment\n",
    "    j = 0\n",
    "    for j in range(n):\n",
    "        l = int(input(\"The first available time:\"))\n",
    "        r = int(input(\"The last available time:\"))\n",
    "        time_interval = set()\n",
    "        # Generating all the possible days in a patient's appointment\n",
    "        while l <= r:\n",
    "            time_interval.add(l)\n",
    "            l += 1\n",
    "        total_time.append(time_interval)\n",
    "    \n",
    "    sub_total_time = []\n",
    "    \n",
    "    \n",
    "    def set_to_list(var):\n",
    "        \"\"\"A function that changes a set data structure to a list\"\"\"\n",
    "        new = list(var)\n",
    "        return new\n",
    "    \n",
    "    \n",
    "    for element in total_time:\n",
    "        new_element = set_to_list(element)\n",
    "        sub_total_time.append(new_element)\n",
    "    \n",
    "    # Getting the combination of possible appointments\n",
    "    possible_appoint = []\n",
    "    k = 0 \n",
    "    while k < (len(total_time) - 1):\n",
    "        a = total_time[k] | total_time[k + 1]\n",
    "        total_time[k + 1] = a\n",
    "        possible_appoint.append(a)\n",
    "        k += 1\n",
    "    \n",
    "    concern = possible_appoint[-1]\n",
    "    concern = set_to_list(concern)\n",
    "    \n",
    "    # Result after getting the possible appointment combinations\n",
    "    \n",
    "    # First test if the possible appointment can be met fr each patient\n",
    "    if n > len(concern):\n",
    "        print(\"Impossible\")\n",
    "    else:\n",
    "        # Checks if the patient didn't fix the same time period\n",
    "        if concern in sub_total_time:\n",
    "            print(concern)\n",
    "        else:\n",
    "            # One of the possible way the doctor can schedule his/her apointment\n",
    "            x = len(concern) // n\n",
    "            y = 0\n",
    "            final = []\n",
    "            while y < len(concern) - 1:\n",
    "                final.append(concern[y])\n",
    "                y += x\n",
    "            print(final)"
   ]
  },
  {
   "cell_type": "markdown",
   "id": "3faf8946",
   "metadata": {},
   "source": []
  },
  {
   "cell_type": "code",
   "execution_count": null,
   "id": "2ff3e18c",
   "metadata": {},
   "outputs": [],
   "source": []
  }
 ],
 "metadata": {
  "kernelspec": {
   "display_name": "Python 3 (ipykernel)",
   "language": "python",
   "name": "python3"
  },
  "language_info": {
   "codemirror_mode": {
    "name": "ipython",
    "version": 3
   },
   "file_extension": ".py",
   "mimetype": "text/x-python",
   "name": "python",
   "nbconvert_exporter": "python",
   "pygments_lexer": "ipython3",
   "version": "3.9.12"
  }
 },
 "nbformat": 4,
 "nbformat_minor": 5
}
