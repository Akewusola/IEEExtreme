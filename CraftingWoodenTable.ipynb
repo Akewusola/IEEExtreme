{
 "cells": [
  {
   "cell_type": "code",
   "execution_count": null,
   "id": "b6dfeace",
   "metadata": {
    "scrolled": true
   },
   "outputs": [],
   "source": []
  },
  {
   "cell_type": "code",
   "execution_count": 14,
   "id": "32a66214",
   "metadata": {},
   "outputs": [
    {
     "name": "stdout",
     "output_type": "stream",
     "text": [
      "Number of woods to make a table:8\n",
      "Number of slots:3\n",
      "Number of woods per slot:4\n",
      "Number of woods for a start:12\n",
      "[4, 4, 4]\n",
      "1\n"
     ]
    }
   ],
   "source": [
    "c = int(input(\"Number of woods to make a table:\"))\n",
    "n = int(input(\"Number of slots:\"))\n",
    "p = int(input(\"Number of woods per slot:\"))\n",
    "w = int(input(\"Number of woods for a start:\"))\n",
    "# Store the number of starting woods in each slot accordingly\n",
    "p_slot = []\n",
    "ans_l = []\n",
    "# Arrange the starting woods accordingly in each slot\n",
    "a = w // p\n",
    "i = 0\n",
    "while i < a:\n",
    "    p_slot.append(p)\n",
    "    i += 1\n",
    "b = w % p\n",
    "if b == 0:\n",
    "    pass\n",
    "else:\n",
    "    p_slot.append(b)\n",
    "x = len(p_slot)\n",
    "print(p_slot)\n",
    "# Arrange the slots in ascending order\n",
    "p_slot.sort()\n",
    "\n",
    "# Creating functions for different scenarios\n",
    "def f_e1(n):\n",
    "    ans1 = len(n)\n",
    "    return ans1\n",
    "\n",
    "\n",
    "def f_e2(n):\n",
    "    j = 0\n",
    "    l_e2 = []\n",
    "    while j < len(n) - 1:\n",
    "        f = n[j] + n[j + 1]\n",
    "        if f > c:\n",
    "            l_e2.append(1)\n",
    "        if f % c == 0:\n",
    "            n[j] = 0\n",
    "            n[j + 1] = f\n",
    "        else:\n",
    "            p_slot.remove(p_slot[j])\n",
    "            break\n",
    "        if f < c:\n",
    "            n[j] = 0\n",
    "            n[j + 1] = f\n",
    "        j += 1\n",
    "    ans2 = len(l_e2)\n",
    "    return ans2\n",
    "\n",
    "\n",
    "def f_e3(n):\n",
    "    ans3 = 0\n",
    "    for element in n:\n",
    "        if element == c:\n",
    "            ans3 += 1\n",
    "    return ans3\n",
    "\n",
    "\n",
    "if p_slot[0] > c:\n",
    "    # Check if the slot with the least wood contains wood more than required to make a table\n",
    "    print(x - f_e1(p_slot))\n",
    "elif c == w:\n",
    "    print(c // w)\n",
    "elif p_slot[0] < c:\n",
    "    # Check if the slot with the least wood contains wood enough to make a table\n",
    "    print(f_e2(p_slot))\n",
    "elif p_slot[0] == c:\n",
    "    # Check if the slot with the least wood contains wood exactly required to make a table\n",
    "    ans_l.append(1)\n",
    "    p_slot.remove(p_slot[0])\n",
    "    if p_slot[0] > c:\n",
    "        y = f_e1(p_slot)\n",
    "    elif p_slot[0] < c:\n",
    "        y = f_e2(p_slot)\n",
    "    else:\n",
    "        y = f_e3(p_slot)\n",
    "    print(y + len(ans_l))\n",
    "\n"
   ]
  },
  {
   "cell_type": "code",
   "execution_count": null,
   "id": "19613b2c",
   "metadata": {},
   "outputs": [],
   "source": []
  },
  {
   "cell_type": "code",
   "execution_count": null,
   "id": "156b269a",
   "metadata": {},
   "outputs": [],
   "source": []
  }
 ],
 "metadata": {
  "kernelspec": {
   "display_name": "Python 3 (ipykernel)",
   "language": "python",
   "name": "python3"
  },
  "language_info": {
   "codemirror_mode": {
    "name": "ipython",
    "version": 3
   },
   "file_extension": ".py",
   "mimetype": "text/x-python",
   "name": "python",
   "nbconvert_exporter": "python",
   "pygments_lexer": "ipython3",
   "version": "3.9.12"
  }
 },
 "nbformat": 4,
 "nbformat_minor": 5
}
