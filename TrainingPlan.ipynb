{
 "cells": [
  {
   "cell_type": "code",
   "execution_count": 15,
   "id": "f97f0123",
   "metadata": {},
   "outputs": [
    {
     "name": "stdout",
     "output_type": "stream",
     "text": [
      "No of test cases:1\n",
      "Period of training:1\n",
      "No of days per period:7\n",
      "No of selection:4\n",
      "Interval:3\n",
      "Grade of each training day:5\n",
      "Grade of each training day:1\n",
      "Grade of each training day:5\n",
      "Grade of each training day:1\n",
      "Grade of each training day:5\n",
      "Grade of each training day:1\n",
      "Grade of each training day:5\n",
     ]
    }
   ],
   "source": [
    " import copy \n",

    "t = int(input(\"No of test cases:\"))\n",
    "\n",
    "for i in range(t):\n",
    "    m = int(input(\"Period of training:\"))\n",
    "    x = int(input(\"No of days per period:\"))\n",
    "    y = int(input(\"No of selection:\"))\n",
    "    k = int(input(\"Interval:\"))\n",
    "    \n",
    "    # Get the grade of each training day\n",
    "    total_grade_list = []\n",
    "    for j in range(m):\n",
    "        grade_list = []\n",
    "        for l in range(x):\n",
    "            grade = int(input(\"Grade of each training day:\"))\n",
    "            grade_list.append(grade)\n",
    "        total_grade_list.append(grade_list)\n",
    "    \n",
    "    \n",
    "    def pick_out(listIn, interval, number):\n",
    "        a = 0\n",
    "        if len(listIn) < interval:\n",
    "            return \"IMPOSSIBLE\"\n",
    "        else:\n",
    "            time_loop = len(listIn) // interval\n",
    "            ans = []\n",
    "            while a < time_loop:\n",
    "                item = listIn[a:a + interval]\n",
    "                item.sort()\n",
    "                b = 0\n",
    "                while b < number:\n",
    "                    ans.append(item[-1 - b])\n",
    "                    b += 1\n",
    "                a += 1\n",
    "            ans.extend(listIn[(interval * a):])\n",
    "            return ans\n",
    "        \n",
    "        \n",
    "    for elements in total_grade_list:\n",
    "        print(pick_out(elements, k, k - 1))\n",
    "        \n",
    "        "
   ]
  },
  {
   "cell_type": "code",
   "execution_count": 10,
   "id": "ea3073c7",
   "metadata": {},
   "outputs": [
    {
     "name": "stdout",
     "output_type": "stream",
     "text": [
      "None\n"
     ]
    }
   ],
   "source": [
    "a = [1, 2, 3]\n",
    "print(a.reverse())"
   ]
  },
  {
   "cell_type": "code",
   "execution_count": null,
   "id": "f6464b3a",
   "metadata": {},
   "outputs": [],
   "source": []
  }
 ],
 "metadata": {
  "kernelspec": {
   "display_name": "Python 3 (ipykernel)",
   "language": "python",
   "name": "python3"
  },
  "language_info": {
   "codemirror_mode": {
    "name": "ipython",
    "version": 3
   },
   "file_extension": ".py",
   "mimetype": "text/x-python",
   "name": "python",
   "nbconvert_exporter": "python",
   "pygments_lexer": "ipython3",
   "version": "3.9.12"
  }
 },
 "nbformat": 4,
 "nbformat_minor": 5
}
